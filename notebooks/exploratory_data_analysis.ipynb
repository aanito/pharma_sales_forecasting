{
 "cells": [
  {
   "cell_type": "code",
   "execution_count": null,
   "metadata": {},
   "outputs": [],
   "source": [
    "import pandas as pd\n",
    "from scripts.data_preprocessing import preprocess_data\n",
    "from scripts.exploratory_analysis import (plot_distributions, holiday_sales_analysis,\n",
    "                                          correlation_analysis, seasonal_analysis,\n",
    "                                          promo_effect_analysis, store_analysis)\n",
    "\n",
    "# Define input and output paths\n",
    "input_file = '../data/raw/train.csv'\n",
    "processed_file = '../data/processed/train_processed.csv'\n",
    "output_dir = '../data/processed'\n",
    "\n",
    "# Preprocess data\n",
    "preprocess_data(input_file, processed_file)\n",
    "\n",
    "# Perform EDA\n",
    "plot_distributions(processed_file, output_dir)\n",
    "holiday_sales_analysis(processed_file, output_dir)\n",
    "correlation_analysis(processed_file, output_dir)\n",
    "seasonal_analysis(processed_file, output_dir)\n",
    "promo_effect_analysis(processed_file, output_dir)\n",
    "store_analysis(processed_file, output_dir)"
   ]
  }
 ],
 "metadata": {
  "kernelspec": {
   "display_name": "pharma_env",
   "language": "python",
   "name": "python3"
  },
  "language_info": {
   "codemirror_mode": {
    "name": "ipython",
    "version": 3
   },
   "file_extension": ".py",
   "mimetype": "text/x-python",
   "name": "python",
   "nbconvert_exporter": "python",
   "pygments_lexer": "ipython3",
   "version": "3.8.10"
  },
  "orig_nbformat": 4
 },
 "nbformat": 4,
 "nbformat_minor": 2
}
